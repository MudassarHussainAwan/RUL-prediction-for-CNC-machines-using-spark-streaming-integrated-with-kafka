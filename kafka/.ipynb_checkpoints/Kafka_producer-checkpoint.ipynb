{
 "cells": [
  {
   "cell_type": "code",
   "execution_count": 25,
   "metadata": {},
   "outputs": [
    {
     "name": "stdout",
     "output_type": "stream",
     "text": [
      "2022-05-03 13:10:43.245932, Sending: 14.018901483057599,0.0,0,0.1,0.0,0.0,0.0,4.0,0.1,5,0,3.05,0.5,0.32,1.4,0.3,1\n",
      "2022-05-03 13:10:45.248415, Sending: 32.8294147090145,14.695170041425,0,7.594252064961379,0.0,0.0,0.0,4.0,0.1,5,1,3.05,0.5,0.32,1.4,0.3,1\n",
      "2022-05-03 13:10:47.253133, Sending: 49.1857845082135,31.4478379885061,0,30.5163095148387,0.0,0.0,0.0,4.0,0.1,5,2,3.05,0.5,0.32,1.4,0.3,1\n"
     ]
    },
    {
     "ename": "KeyboardInterrupt",
     "evalue": "",
     "output_type": "error",
     "traceback": [
      "\u001b[0;31m---------------------------------------------------------------------------\u001b[0m",
      "\u001b[0;31mKeyboardInterrupt\u001b[0m                         Traceback (most recent call last)",
      "\u001b[0;32m<ipython-input-25-1cea86413ff3>\u001b[0m in \u001b[0;36m<module>\u001b[0;34m\u001b[0m\n\u001b[1;32m     73\u001b[0m \u001b[0;34m\u001b[0m\u001b[0m\n\u001b[1;32m     74\u001b[0m         \u001b[0;31m# Calculate the delay based on the rate.\u001b[0m\u001b[0;34m\u001b[0m\u001b[0;34m\u001b[0m\u001b[0;34m\u001b[0m\u001b[0m\n\u001b[0;32m---> 75\u001b[0;31m         \u001b[0msleep\u001b[0m\u001b[0;34m(\u001b[0m\u001b[0;36m1.0\u001b[0m \u001b[0;34m/\u001b[0m \u001b[0mrate\u001b[0m\u001b[0;34m)\u001b[0m\u001b[0;34m\u001b[0m\u001b[0;34m\u001b[0m\u001b[0m\n\u001b[0m\u001b[1;32m     76\u001b[0m \u001b[0;34m\u001b[0m\u001b[0m\n\u001b[1;32m     77\u001b[0m         \u001b[0mCNC_machines_cycles\u001b[0m \u001b[0;34m=\u001b[0m \u001b[0mget_CNC_machine_cycle\u001b[0m\u001b[0;34m(\u001b[0m\u001b[0mCNC_machines\u001b[0m\u001b[0;34m)\u001b[0m\u001b[0;34m\u001b[0m\u001b[0;34m\u001b[0m\u001b[0m\n",
      "\u001b[0;31mKeyboardInterrupt\u001b[0m: "
     ]
    }
   ],
   "source": [
    "import time \n",
    "import json \n",
    "import random \n",
    "from datetime import datetime\n",
    "from kafka import KafkaProducer\n",
    "from time import sleep\n",
    "import argparse\n",
    "from datetime import datetime\n",
    "from collections import defaultdict\n",
    "import queue\n",
    "import random\n",
    "\n",
    "# loader reads the test data set saved as a csv file in local file system, \n",
    "# returns a dictionary of queues for each CNC_id present in the test data and total number of samples available in the csv file.\n",
    "\n",
    "def loader(filename):\n",
    "    CNC_machines = defaultdict(queue.Queue)\n",
    "\n",
    "    total_samples = 0\n",
    "    with open(filename, \"r\") as file:\n",
    "        next(file)\n",
    "        for line in file:\n",
    "            # Encode as bytes and strip trailing whitespaces\n",
    "            CNC_data = line.split(',')\n",
    "            CNC_id = CNC_data[9]\n",
    "            CNC_machines[CNC_id].put(line)\n",
    "            total_samples += 1\n",
    "\n",
    "    return CNC_machines, total_samples\n",
    "\n",
    "# randomly choose a CNC_id, choose that queue from the dictionary and get a row from the coresponding queue.\n",
    "# next time the queue will return the successive row if that queue is chosen randomly.\n",
    "\n",
    "def get_CNC_machine_cycle(CNC_machines):\n",
    "    CNC_id = random.choice(list(CNC_machines))\n",
    "    \n",
    "    q = CNC_machines[CNC_id]\n",
    "    c = q.get().strip('\\n')\n",
    "    if q.qsize() == 0:\n",
    "        del CNC_machines[CNC_id]\n",
    "\n",
    "    return c\n",
    "\n",
    "\n",
    "# Kafka Producer\n",
    "producer = KafkaProducer(\n",
    "    bootstrap_servers=['localhost:9092'],\n",
    "#    value_serializer=serializer\n",
    ")\n",
    "\n",
    "\n",
    "\n",
    "\n",
    "if __name__ == '__main__':\n",
    "    \n",
    "    \n",
    "    rate = 0.5\n",
    "    \n",
    "    source = '/Users/macbook/Desktop/morePro/data/test_df.csv'\n",
    "    \n",
    "    CNC_machines, num_samples = loader(source)\n",
    "    count = num_samples\n",
    "    \n",
    "    CNC_machines_cycles = get_CNC_machine_cycle(CNC_machines)\n",
    "    \n",
    "    while count > 0 or CNC_machines_cycles is not None:\n",
    "        # Post to the topic\n",
    "        print(\"{}, Sending: {}\".format(datetime.now(), CNC_machines_cycles))\n",
    "\n",
    "        # Encode as bytes and strip trailing whitespaces\n",
    "        msg = CNC_machines_cycles.rstrip().encode('utf-8')\n",
    "        producer.send('CNC-stream', msg)\n",
    "        count -= 1\n",
    "\n",
    "        # Calculate the delay based on the rate.\n",
    "        sleep(1.0 / rate)\n",
    "\n",
    "        CNC_machines_cycles = get_CNC_machine_cycle(CNC_machines)\n",
    "\n",
    "    # Push put any lingering messages then close\n",
    "    producer.flush()\n",
    "    producer.close()"
   ]
  },
  {
   "cell_type": "code",
   "execution_count": null,
   "metadata": {},
   "outputs": [],
   "source": []
  }
 ],
 "metadata": {
  "kernelspec": {
   "display_name": "Python 3",
   "language": "python",
   "name": "python3"
  },
  "language_info": {
   "codemirror_mode": {
    "name": "ipython",
    "version": 3
   },
   "file_extension": ".py",
   "mimetype": "text/x-python",
   "name": "python",
   "nbconvert_exporter": "python",
   "pygments_lexer": "ipython3",
   "version": "3.9.1"
  }
 },
 "nbformat": 4,
 "nbformat_minor": 4
}
