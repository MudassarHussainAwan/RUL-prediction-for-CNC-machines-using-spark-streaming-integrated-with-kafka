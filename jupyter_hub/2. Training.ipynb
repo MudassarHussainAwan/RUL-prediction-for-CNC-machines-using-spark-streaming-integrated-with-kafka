{
 "cells": [
  {
   "cell_type": "markdown",
   "id": "working-search",
   "metadata": {},
   "source": [
    "# 2. Training phase: Coresponds to loading data and performing various regression techniques inorder to make prediction."
   ]
  },
  {
   "cell_type": "code",
   "execution_count": 3,
   "id": "fiscal-george",
   "metadata": {},
   "outputs": [],
   "source": [
    "from pyspark import SparkConf, SparkContext\n",
    "from pyspark.sql import SQLContext\n",
    "from pyspark.sql.types import *\n",
    "from pyspark.sql import functions as F\n",
    "\n",
    "from pyspark.ml.feature import RFormula\n",
    "from pyspark.ml.feature import MinMaxScaler\n",
    "from pyspark.ml.feature import PCA\n",
    "from pyspark.ml import Pipeline \n",
    "\n",
    "from pyspark.ml.regression import LinearRegression\n",
    "from pyspark.ml.regression import GBTRegressor\n",
    "from pyspark.ml.regression import DecisionTreeRegressor\n",
    "from pyspark.ml.regression import RandomForestRegressor\n",
    "from pyspark.ml.regression import AFTSurvivalRegression\n",
    "from pyspark.ml.regression import IsotonicRegression\n",
    "#from pyspark.ml.regression import FMRegressor\n",
    "import numpy as np\n",
    "import pandas as pd\n",
    "import matplotlib.pyplot as plt\n",
    "\n",
    "\n"
   ]
  },
  {
   "cell_type": "code",
   "execution_count": 2,
   "id": "engaging-slovenia",
   "metadata": {},
   "outputs": [
    {
     "name": "stdout",
     "output_type": "stream",
     "text": [
      "WARNING: pip is being invoked by an old script wrapper. This will fail in a future version of pip.\n",
      "Please see https://github.com/pypa/pip/issues/5599 for advice on fixing the underlying issue.\n",
      "To avoid this problem you can invoke Python with '-m pip' instead of running pip directly.\n",
      "Defaulting to user installation because normal site-packages is not writeable\n",
      "Requirement already satisfied: numpy in /home/students/s281654/.local/lib/python3.7/site-packages (1.15.4)\n"
     ]
    }
   ],
   "source": [
    "!pip install numpy"
   ]
  },
  {
   "cell_type": "markdown",
   "id": "hired-scotland",
   "metadata": {},
   "source": [
    "#### step 1: Features include settings and the features extracted from the dataset. Definining this list will help in step 3 for setting up RFormula.\n",
    "#### [CNC_id] and [cycle] are not part of training. They will be used to notify with alert in the real time inference phase to identify the CNC machine and the coresponding cycle."
   ]
  },
  {
   "cell_type": "code",
   "execution_count": 4,
   "id": "suspended-tennis",
   "metadata": {},
   "outputs": [],
   "source": [
    "features = ['voltage','current','contact_force','angular_velocity','linear_velocity','cutter_position','F1','F2','beta']\n",
    "settings = ['mass','resistance','radius','torque_const','voltage_const','censor']\n",
    "features.extend(settings)"
   ]
  },
  {
   "cell_type": "markdown",
   "id": "piano-joint",
   "metadata": {},
   "source": [
    "#### step 2: initialize the spark context"
   ]
  },
  {
   "cell_type": "code",
   "execution_count": 5,
   "id": "devoted-fountain",
   "metadata": {},
   "outputs": [],
   "source": [
    "sc = SparkContext.getOrCreate()\n",
    "sqlContext = SQLContext.getOrCreate(sc)"
   ]
  },
  {
   "cell_type": "markdown",
   "id": "transsexual-crest",
   "metadata": {},
   "source": [
    "# Step 3: Load the train set\n",
    "#### from the same repository used to store train_df in the data preparation phase\n",
    "#### droping _c0 would remove the index column if exists (not used for training)"
   ]
  },
  {
   "cell_type": "code",
   "execution_count": 6,
   "id": "sophisticated-personality",
   "metadata": {},
   "outputs": [],
   "source": [
    "df_train = spark.read.format(\"csv\")\\\n",
    "    .option(\"delimiter\", \",\")\\\n",
    "    .option(\"header\", \"True\")\\\n",
    "    .load('/tmp/morepro/data/train_df.csv',inferSchema= True)\\\n",
    "    .drop('_c0')\n",
    "# print(df_train.show(5))\n",
    "# print(df_train.printSchema())"
   ]
  },
  {
   "cell_type": "markdown",
   "id": "selective-council",
   "metadata": {},
   "source": [
    "#### We can visulize the train set as follows"
   ]
  },
  {
   "cell_type": "code",
   "execution_count": 7,
   "id": "configured-plastic",
   "metadata": {},
   "outputs": [
    {
     "name": "stdout",
     "output_type": "stream",
     "text": [
      "+------------------+------------------+-------------+----------------+---------------+---------------+---+---+----+------+-----+----+----------+------+------------+-------------+------+-----+\n",
      "|           voltage|           current|contact_force|angular_velocity|linear_velocity|cutter_position| F1| F2|beta|CNC_id|cycle|mass|resistance|radius|torque_const|voltage_const|censor|  rul|\n",
      "+------------------+------------------+-------------+----------------+---------------+---------------+---+---+----+------+-----+----+----------+------+------------+-------------+------+-----+\n",
      "|14.018901483057599|               0.0|            0|             0.1|            0.0|            0.0|0.0|3.0| 0.1|     1|    0| 3.0|       0.6|   0.3|         1.5|          0.2|     1|100.0|\n",
      "|32.717150504498804|17.891433157638897|            0|8.75278527186944|            0.0|            0.0|0.0|3.0| 0.1|     1|    1| 3.0|       0.6|   0.3|         1.5|          0.2|     1|100.0|\n",
      "|48.589192507190894|  37.9114982198866|            0|35.1228488964869|            0.0|            0.0|0.0|3.0| 0.1|     1|    2| 3.0|       0.6|   0.3|         1.5|          0.2|     1|100.0|\n",
      "|  60.4795776220114|   54.104752450068|            0|74.4760742045337|            0.0|            0.0|0.0|3.0| 0.1|     1|    3| 3.0|       0.6|   0.3|         1.5|          0.2|     1|100.0|\n",
      "|  68.0782170065323|  63.7183851999219|            0|118.799367489995|            0.0|            0.0|0.0|3.0| 0.1|     1|    4| 3.0|       0.6|   0.3|         1.5|          0.2|     1|100.0|\n",
      "+------------------+------------------+-------------+----------------+---------------+---------------+---+---+----+------+-----+----+----------+------+------------+-------------+------+-----+\n",
      "only showing top 5 rows\n",
      "\n"
     ]
    }
   ],
   "source": [
    "df_train.show(5)"
   ]
  },
  {
   "cell_type": "markdown",
   "id": "proprietary-construction",
   "metadata": {},
   "source": [
    "# Step 4: Configure preprcoessing pipeline stages\n",
    "#### primary stage is to make a single column out of all the available features. This is required for the training in the spark framework.\n",
    "#### Secondly we would apply min-max scaler as feature scaling.\n",
    "#### PCA could also be used but the results were not so promising. We can choose to skip it for now as the algorithms seem to already have low latency even with the given dimensions of the feature space"
   ]
  },
  {
   "cell_type": "code",
   "execution_count": 8,
   "id": "democratic-commander",
   "metadata": {},
   "outputs": [],
   "source": [
    "r_formula = 'rul ~ ' + '+'.join(features)\n",
    "formula = RFormula(formula=r_formula)\n",
    "scaler = MinMaxScaler(inputCol=\"features\", outputCol=\"scaledFeatures\")\n",
    "#pca = PCA(k=3, inputCol=\"scaledFeatures\",outputCol=\"pcaFeatures\")\n",
    "\n",
    "\n",
    "# Build the pipeline \n",
    "pipeline = Pipeline(stages=[formula, scaler]) #pca\n",
    "# Fit the pipeline \n",
    "pipeline_model = pipeline.fit(df_train) \n",
    "# Make a prediction \n",
    "transformedData = pipeline_model.transform(df_train)"
   ]
  },
  {
   "cell_type": "markdown",
   "id": "committed-oxford",
   "metadata": {},
   "source": [
    "#### After applying the pipeline stages we get additional columns: \n",
    "#### features corresponding to RFormula, \n",
    "#### scaledFeatures applying min-max scaler, \n",
    "#### label is similar to rul"
   ]
  },
  {
   "cell_type": "code",
   "execution_count": 9,
   "id": "effective-trader",
   "metadata": {},
   "outputs": [
    {
     "name": "stdout",
     "output_type": "stream",
     "text": [
      "+------------------+------------------+-------------+----------------+---------------+---------------+---+---+----+------+-----+----+----------+------+------------+-------------+------+-----+--------------------+-----+--------------------+\n",
      "|           voltage|           current|contact_force|angular_velocity|linear_velocity|cutter_position| F1| F2|beta|CNC_id|cycle|mass|resistance|radius|torque_const|voltage_const|censor|  rul|            features|label|      scaledFeatures|\n",
      "+------------------+------------------+-------------+----------------+---------------+---------------+---+---+----+------+-----+----+----------+------+------------+-------------+------+-----+--------------------+-----+--------------------+\n",
      "|14.018901483057599|               0.0|            0|             0.1|            0.0|            0.0|0.0|3.0| 0.1|     1|    0| 3.0|       0.6|   0.3|         1.5|          0.2|     1|100.0|[14.0189014830575...|100.0|[0.0,0.0,0.0,0.0,...|\n",
      "|32.717150504498804|17.891433157638897|            0|8.75278527186944|            0.0|            0.0|0.0|3.0| 0.1|     1|    1| 3.0|       0.6|   0.3|         1.5|          0.2|     1|100.0|[32.7171505044988...|100.0|[0.13868485350688...|\n",
      "|48.589192507190894|  37.9114982198866|            0|35.1228488964869|            0.0|            0.0|0.0|3.0| 0.1|     1|    2| 3.0|       0.6|   0.3|         1.5|          0.2|     1|100.0|[48.5891925071908...|100.0|[0.25640773854678...|\n",
      "|  60.4795776220114|   54.104752450068|            0|74.4760742045337|            0.0|            0.0|0.0|3.0| 0.1|     1|    3| 3.0|       0.6|   0.3|         1.5|          0.2|     1|100.0|[60.4795776220114...|100.0|[0.34459868711626...|\n",
      "|  68.0782170065323|  63.7183851999219|            0|118.799367489995|            0.0|            0.0|0.0|3.0| 0.1|     1|    4| 3.0|       0.6|   0.3|         1.5|          0.2|     1|100.0|[68.0782170065323...|100.0|[0.40095777125754...|\n",
      "+------------------+------------------+-------------+----------------+---------------+---------------+---+---+----+------+-----+----+----------+------+------------+-------------+------+-----+--------------------+-----+--------------------+\n",
      "only showing top 5 rows\n",
      "\n"
     ]
    }
   ],
   "source": [
    "transformedData.show(5)"
   ]
  },
  {
   "cell_type": "markdown",
   "id": "positive-address",
   "metadata": {},
   "source": [
    "# * Model Training *"
   ]
  },
  {
   "cell_type": "markdown",
   "id": "indoor-dodge",
   "metadata": {},
   "source": [
    "# Linear Regression"
   ]
  },
  {
   "cell_type": "code",
   "execution_count": 9,
   "id": "sought-cosmetic",
   "metadata": {},
   "outputs": [
    {
     "name": "stdout",
     "output_type": "stream",
     "text": [
      "Coefficients: [0.0,1.462263132548203,0.0,0.0,0.0,0.0,0.0,-4.614481661105409,-74.05474776796159,3.1163971783237594,-1.895354935249919,-5.6414900874768215,-0.9345296929216205,4.973269266589901,0.0]\n",
      "Intercept: 102.45298394216887\n"
     ]
    }
   ],
   "source": [
    "lr = LinearRegression(featuresCol = 'scaledFeatures', labelCol='label', maxIter=10, regParam=0.3, elasticNetParam=0.8)\n",
    "lr_model = lr.fit(transformedData)\n",
    "print(\"Coefficients: \" + str(lr_model.coefficients))\n",
    "print(\"Intercept: \" + str(lr_model.intercept))\n",
    "\n",
    "lr_pred = lr_model.transform(transformedData)"
   ]
  },
  {
   "cell_type": "markdown",
   "id": "another-round",
   "metadata": {},
   "source": [
    "# Decision Tree Regressor"
   ]
  },
  {
   "cell_type": "code",
   "execution_count": 129,
   "id": "coastal-label",
   "metadata": {},
   "outputs": [],
   "source": [
    "dt = DecisionTreeRegressor(featuresCol ='scaledFeatures', labelCol = 'label')\n",
    "dt_model = dt.fit(transformedData)\n",
    "dt_pred = dt_model.transform(transformedData)"
   ]
  },
  {
   "cell_type": "markdown",
   "id": "equal-publicity",
   "metadata": {},
   "source": [
    "# Gradient Boosting Tree Regressor"
   ]
  },
  {
   "cell_type": "code",
   "execution_count": 130,
   "id": "resistant-borough",
   "metadata": {},
   "outputs": [],
   "source": [
    "gbt = GBTRegressor(featuresCol = 'scaledFeatures', labelCol = 'label', maxIter=10)\n",
    "gbt_model = gbt.fit(transformedData)\n",
    "gbt_pred= gbt_model.transform(transformedData)"
   ]
  },
  {
   "cell_type": "markdown",
   "id": "latin-trade",
   "metadata": {},
   "source": [
    "# Random Forest Regressor"
   ]
  },
  {
   "cell_type": "code",
   "execution_count": 131,
   "id": "concrete-pottery",
   "metadata": {},
   "outputs": [],
   "source": [
    "rf = RandomForestRegressor(featuresCol ='scaledFeatures', labelCol = 'label')\n",
    "rf_model = rf.fit(transformedData)\n",
    "rf_pred = rf_model.transform(transformedData)\n"
   ]
  },
  {
   "cell_type": "markdown",
   "id": "innovative-kruger",
   "metadata": {},
   "source": [
    "# AFT regression"
   ]
  },
  {
   "cell_type": "code",
   "execution_count": 132,
   "id": "attractive-november",
   "metadata": {},
   "outputs": [
    {
     "name": "stdout",
     "output_type": "stream",
     "text": [
      "Coefficients: [-1.8491584889795958,1.2280437551363461,-0.08614212215164628,-0.011858319403607676,-0.0922181439728031,0.023359060032075735,0.00367751681600821,-0.15305582190939274,-1.210496751137595,0.6005452056787057,0.9252191038512941,0.3440636987062318,3.178710573076996,3.4221342558242434,0.0]\n",
      "Intercept: 0.6692391109863267\n",
      "Scale: 0.32631873248076454\n"
     ]
    }
   ],
   "source": [
    "aft = AFTSurvivalRegression(censorCol='censor', featuresCol='scaledFeatures', labelCol='label', maxIter=500, tol=1e-8)\n",
    "aft_model = aft.fit(transformedData)\n",
    "aft_pred = aft_model.transform(transformedData)\n",
    "\n",
    "# Print the coefficients, intercept and scale parameter for AFT survival regression\n",
    "print(\"Coefficients: \" + str(aft_model.coefficients))\n",
    "print(\"Intercept: \" + str(aft_model.intercept))\n",
    "print(\"Scale: \" + str(aft_model.scale))\n",
    "\n"
   ]
  },
  {
   "cell_type": "markdown",
   "id": "asian-highlight",
   "metadata": {},
   "source": [
    "# Save models\n",
    "#### Save the models in the jupter (cluster)file system.\n",
    "#### They can be stored in the gateway file system and then downloaded to the local file system as we will do in the later (inference) notebook."
   ]
  },
  {
   "cell_type": "code",
   "execution_count": 55,
   "id": "going-davis",
   "metadata": {},
   "outputs": [],
   "source": [
    "#!hadoop fs -mkdir /tmp/morepro/models"
   ]
  },
  {
   "cell_type": "code",
   "execution_count": 139,
   "id": "angry-handbook",
   "metadata": {},
   "outputs": [],
   "source": [
    "model_dir = '/tmp/morepro/models'\n",
    "pipeline_model.write().overwrite().save(model_dir+'pipeline')\n",
    "lr_model.write().overwrite().save(model_dir+'lr')\n",
    "dt_model.write().overwrite().save(model_dir+'dt')\n",
    "rf_model.write().overwrite().save(model_dir+'rf')\n",
    "gbt_model.write().overwrite().save(model_dir+'gbt')\n",
    "aft_model.write().overwrite().save(model_dir+'aft')"
   ]
  },
  {
   "cell_type": "markdown",
   "id": "headed-chester",
   "metadata": {},
   "source": [
    "# prediction vs rul\n",
    "#### Note these results correspond to the training data"
   ]
  },
  {
   "cell_type": "code",
   "execution_count": 133,
   "id": "chubby-appearance",
   "metadata": {},
   "outputs": [],
   "source": [
    "rul = np.array(df_train.select(\"rul\").collect())\n",
    "y_aft = np.array(aft_pred.select('prediction').collect())\n",
    "y_lr = np.array(lr_pred.select('prediction').collect())\n",
    "y_dt = np.array(dt_pred.select('prediction').collect())\n",
    "y_rf = np.array(dt_pred.select('prediction').collect())\n",
    "y_gbt = np.array(gbt_pred.select('prediction').collect())"
   ]
  },
  {
   "cell_type": "code",
   "execution_count": 138,
   "id": "compatible-findings",
   "metadata": {},
   "outputs": [
    {
     "data": {
      "text/plain": [
       "[<matplotlib.lines.Line2D at 0x7f3948b63cd0>]"
      ]
     },
     "execution_count": 138,
     "metadata": {},
     "output_type": "execute_result"
    },
    {
     "data": {
      "image/png": "[encoded data removed]",
      "text/plain": [
       "<Figure size 432x288 with 1 Axes>"
      ]
     },
     "metadata": {
      "needs_background": "light"
     },
     "output_type": "display_data"
    }
   ],
   "source": [
    "plt.plot(y_lr)\n",
    "plt.plot(rul)"
   ]
  },
  {
   "cell_type": "markdown",
   "id": "terminal-canada",
   "metadata": {},
   "source": [
    "# Decision Tree Feature Importance"
   ]
  },
  {
   "cell_type": "code",
   "execution_count": 81,
   "id": "infrared-concert",
   "metadata": {},
   "outputs": [
    {
     "data": {
      "image/png": "[encoded data removed]",
      "text/plain": [
       "<Figure size 432x288 with 1 Axes>"
      ]
     },
     "metadata": {
      "needs_background": "light"
     },
     "output_type": "display_data"
    }
   ],
   "source": [
    "importances = pd.Series(dt_model.featureImportances, index=['pc1','pc2','pc3'])\n",
    "\n",
    "fig, ax = plt.subplots()\n",
    "importances.plot.bar(ax=ax)\n",
    "ax.set_title(\"Feature importances\")\n",
    "ax.set_ylabel(\"Mean decrease in impurity\")\n",
    "fig.tight_layout()\n",
    "plt.grid()"
   ]
  },
  {
   "cell_type": "markdown",
   "id": "disturbed-adrian",
   "metadata": {},
   "source": [
    "# GBT Feature importance"
   ]
  },
  {
   "cell_type": "code",
   "execution_count": 61,
   "id": "removable-petersburg",
   "metadata": {},
   "outputs": [
    {
     "data": {
      "image/png": "[encoded data removed]",
      "text/plain": [
       "<Figure size 432x288 with 1 Axes>"
      ]
     },
     "metadata": {
      "needs_background": "light"
     },
     "output_type": "display_data"
    }
   ],
   "source": [
    "importances = pd.Series(gbt_model.featureImportances,index=['pc1','pc2','pc3'] )\n",
    "\n",
    "fig, ax = plt.subplots()\n",
    "importances.plot.bar(ax=ax)\n",
    "ax.set_title(\"Feature importances\")\n",
    "ax.set_ylabel(\"Mean decrease in impurity\")\n",
    "fig.tight_layout()\n",
    "plt.grid()"
   ]
  },
  {
   "cell_type": "markdown",
   "id": "seasonal-berry",
   "metadata": {},
   "source": [
    "# Grid search\n",
    "#### Helps find the optimum parameters to boost the accuracy "
   ]
  },
  {
   "cell_type": "code",
   "execution_count": 24,
   "id": "resistant-allergy",
   "metadata": {},
   "outputs": [],
   "source": [
    "from pyspark.ml.tuning import CrossValidator, ParamGridBuilder,TrainValidationSplit\n",
    "from pyspark.ml.evaluation import RegressionEvaluator"
   ]
  },
  {
   "cell_type": "code",
   "execution_count": 11,
   "id": "wired-porter",
   "metadata": {},
   "outputs": [],
   "source": [
    "paramGrid = ParamGridBuilder() \\\n",
    "    .addGrid(lr.maxIter, [5, 10, 15]) \\\n",
    "    .addGrid(lr.regParam, [0.1, 0.3,0.5,0.9]) \\\n",
    "    .build()\n",
    "\n",
    "crossval = CrossValidator(estimator=lr,\n",
    "                          estimatorParamMaps=paramGrid,\n",
    "                          evaluator=RegressionEvaluator(),\n",
    "                          numFolds=3)  \n",
    "\n",
    "# Run cross-validation, and choose the best set of parameters.\n",
    "cvModel = crossval.fit(transformedData)"
   ]
  },
  {
   "cell_type": "code",
   "execution_count": 27,
   "id": "central-villa",
   "metadata": {},
   "outputs": [],
   "source": [
    "tvs = TrainValidationSplit(estimator=lr,\n",
    "                           estimatorParamMaps=paramGrid,\n",
    "                           evaluator=RegressionEvaluator(),\n",
    "                           # 80% of the data will be used for training, 20% for validation.\n",
    "                           trainRatio=0.8)\n",
    "\n",
    "# Run TrainValidationSplit, and choose the best set of parameters.\n",
    "tvs_model = tvs.fit(transformedData)"
   ]
  },
  {
   "cell_type": "markdown",
   "id": "described-switzerland",
   "metadata": {},
   "source": [
    "#### we see small improvement for the grid search models after using optimum parameters. lrModel corresponds to the orignal model here"
   ]
  },
  {
   "cell_type": "code",
   "execution_count": 29,
   "id": "interim-auction",
   "metadata": {},
   "outputs": [
    {
     "name": "stdout",
     "output_type": "stream",
     "text": [
      "lrModel R2 on train data = 0.942039\n",
      "cvModel R2 on train data = 0.942247\n",
      "tvsModel R2 on train data = 0.942247\n"
     ]
    }
   ],
   "source": [
    "cv_pred = cvModel.transform(transformedData)\n",
    "tvs_pred = tvs_model.transform(transformedData)\n",
    "evaluator = RegressionEvaluator(labelCol=\"label\", predictionCol=\"prediction\", metricName=\"r2\")\n",
    "print(\"%s R2 on train data = %g\" % ('lrModel',evaluator.evaluate(lr_pred)))\n",
    "print(\"%s R2 on train data = %g\" % ('cvModel',evaluator.evaluate(cv_pred)))\n",
    "print(\"%s R2 on train data = %g\" % ('tvsModel',evaluator.evaluate(tvs_pred)))"
   ]
  },
  {
   "cell_type": "code",
   "execution_count": null,
   "id": "addressed-constitutional",
   "metadata": {},
   "outputs": [],
   "source": []
  }
 ],
 "metadata": {
  "kernelspec": {
   "display_name": "PySpark (Local)",
   "language": "python",
   "name": "pyspark_local"
  },
  "language_info": {
   "codemirror_mode": {
    "name": "ipython",
    "version": 3
   },
   "file_extension": ".py",
   "mimetype": "text/x-python",
   "name": "python",
   "nbconvert_exporter": "python",
   "pygments_lexer": "ipython3",
   "version": "3.7.9"
  }
 },
 "nbformat": 4,
 "nbformat_minor": 5
}
