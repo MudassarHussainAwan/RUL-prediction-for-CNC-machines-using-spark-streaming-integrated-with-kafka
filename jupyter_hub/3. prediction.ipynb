{
 "cells": [
  {
   "cell_type": "markdown",
   "id": "prepared-possibility",
   "metadata": {},
   "source": [
    "# 3. Inference phase: corresponds to testing the model on the server. This step is performed as validation.\n",
    "#### In the later step we will download the models to perform real time inference on the local machine.\n",
    "#### In this way we can train model on the cloud with big data and deploy them in the real time environment."
   ]
  },
  {
   "cell_type": "code",
   "execution_count": 4,
   "id": "involved-restaurant",
   "metadata": {},
   "outputs": [],
   "source": [
    "#from pyspark import SparkConf, SparkContext\n",
    "#from pyspark.sql import SQLContext\n",
    "from pyspark.sql.types import *\n",
    "from pyspark.sql import functions as F\n",
    "from pyspark.ml.feature import MinMaxScalerModel\n",
    "from pyspark.ml.feature import PCAModel\n",
    "from pyspark.ml.feature import RFormulaModel\n",
    "\n",
    "from pyspark.ml import PipelineModel\n",
    "from pyspark.ml.regression import AFTSurvivalRegressionModel\n",
    "from pyspark.ml.regression import LinearRegressionModel\n",
    "from pyspark.ml.regression import GBTRegressionModel\n",
    "from pyspark.ml.regression import DecisionTreeRegressionModel\n",
    "from pyspark.ml.regression import RandomForestRegressionModel\n",
    "from pyspark.ml.evaluation import RegressionEvaluator\n",
    "import numpy as np\n",
    "import pandas as pd\n",
    "import matplotlib.pyplot as plt"
   ]
  },
  {
   "cell_type": "code",
   "execution_count": 3,
   "id": "certain-intranet",
   "metadata": {},
   "outputs": [
    {
     "name": "stdout",
     "output_type": "stream",
     "text": [
      "WARNING: pip is being invoked by an old script wrapper. This will fail in a future version of pip.\n",
      "Please see https://github.com/pypa/pip/issues/5599 for advice on fixing the underlying issue.\n",
      "To avoid this problem you can invoke Python with '-m pip' instead of running pip directly.\n",
      "Defaulting to user installation because normal site-packages is not writeable\n",
      "Requirement already satisfied: numpy in /home/students/s281654/.local/lib/python3.7/site-packages (1.15.4)\n"
     ]
    }
   ],
   "source": [
    "!pip install numpy"
   ]
  },
  {
   "cell_type": "markdown",
   "id": "creative-bahamas",
   "metadata": {},
   "source": [
    "#  Load the models"
   ]
  },
  {
   "cell_type": "code",
   "execution_count": 5,
   "id": "spatial-impression",
   "metadata": {},
   "outputs": [],
   "source": [
    "model_dir = '/tmp/morepro/models'\n",
    "pipeline_model = PipelineModel.load(model_dir+'pipeline')\n",
    "aft_model = AFTSurvivalRegressionModel.load(model_dir+'aft')\n",
    "lr_model = LinearRegressionModel.load(model_dir+'lr')\n",
    "dt_model = DecisionTreeRegressionModel.load(model_dir+'dt')\n",
    "gbt_model = GBTRegressionModel.load(model_dir+'gbt')\n",
    "rf_model = RandomForestRegressionModel.load(model_dir+'rf')\n"
   ]
  },
  {
   "cell_type": "markdown",
   "id": "muslim-bronze",
   "metadata": {},
   "source": [
    "# Load the test data"
   ]
  },
  {
   "cell_type": "code",
   "execution_count": 6,
   "id": "ongoing-production",
   "metadata": {},
   "outputs": [],
   "source": [
    "df_test = spark.read.format(\"csv\")\\\n",
    "    .option(\"delimiter\", \",\")\\\n",
    "    .option(\"header\", \"True\")\\\n",
    "    .load('/tmp/morepro/data/test_df.csv',inferSchema= True)\\\n",
    "    .drop('_c0')"
   ]
  },
  {
   "cell_type": "code",
   "execution_count": null,
   "id": "hollywood-cornell",
   "metadata": {},
   "outputs": [],
   "source": [
    "rul = pd.read_csv('/home/students/s281654/Data/test_rul.csv')"
   ]
  },
  {
   "cell_type": "markdown",
   "id": "ancient-mirror",
   "metadata": {},
   "source": [
    "# Transform the data and make predictions"
   ]
  },
  {
   "cell_type": "code",
   "execution_count": 198,
   "id": "egyptian-quarter",
   "metadata": {},
   "outputs": [],
   "source": [
    "test_transformedData = pipeline_model.transform(df_test)\n",
    "aft_pred = aft_model.transform(test_transformedData)\n",
    "lr_pred = lr_model.transform(test_transformedData)\n",
    "dt_pred = dt_model.transform(test_transformedData)\n",
    "gbt_pred = gbt_model.transform(test_transformedData)\n",
    "rf_pred = rf_model.transform(test_transformedData)"
   ]
  },
  {
   "cell_type": "markdown",
   "id": "bright-express",
   "metadata": {},
   "source": [
    "# prediction vs rul"
   ]
  },
  {
   "cell_type": "code",
   "execution_count": 199,
   "id": "interim-connectivity",
   "metadata": {},
   "outputs": [],
   "source": [
    "y_aft = np.array(aft_pred.select('prediction').collect())\n",
    "y_lr = np.array(lr_pred.select('prediction').collect())\n",
    "y_dt = np.array(dt_pred.select('prediction').collect())\n",
    "y_rf = np.array(dt_pred.select('prediction').collect())\n",
    "y_gbt = np.array(gbt_pred.select('prediction').collect())"
   ]
  },
  {
   "cell_type": "code",
   "execution_count": 201,
   "id": "independent-detroit",
   "metadata": {},
   "outputs": [
    {
     "data": {
      "text/plain": [
       "[<matplotlib.lines.Line2D at 0x7f2564a15890>]"
      ]
     },
     "execution_count": 201,
     "metadata": {},
     "output_type": "execute_result"
    },
    {
     "data": {
      "image/png": "[encoded data removed]",
      "text/plain": [
       "<Figure size 432x288 with 1 Axes>"
      ]
     },
     "metadata": {
      "needs_background": "light"
     },
     "output_type": "display_data"
    }
   ],
   "source": [
    "plt.plot(rul,label= 'rul')\n",
    "plt.plot(y_lr[0:-1],label='prediction')"
   ]
  },
  {
   "cell_type": "markdown",
   "id": "false-conditioning",
   "metadata": {},
   "source": [
    "# Metric evaluation"
   ]
  },
  {
   "cell_type": "code",
   "execution_count": null,
   "id": "cardiovascular-tenant",
   "metadata": {},
   "outputs": [],
   "source": [
    "predictions = [lr_pred,dt_pred,rf_pred,gbt_pred,aft_pred]\n",
    "names = ['linear_regression', 'decision_tree','random_forest','gradient_boosting_tree','survival_regression']"
   ]
  },
  {
   "cell_type": "markdown",
   "id": "choice-obligation",
   "metadata": {},
   "source": [
    "# MAE"
   ]
  },
  {
   "cell_type": "code",
   "execution_count": 41,
   "id": "appointed-application",
   "metadata": {},
   "outputs": [
    {
     "name": "stdout",
     "output_type": "stream",
     "text": [
      "linear_regression MAE on test data = 4.40019\n",
      "decision_tree MAE on test data = 4.63777\n",
      "random_forest MAE on test data = 6.31273\n",
      "gradient_boosting_tree MAE on test data = 5.60826\n",
      "survival_regression MAE on test data = 9.00669\n"
     ]
    }
   ],
   "source": [
    "evaluator = RegressionEvaluator(labelCol=\"label\", predictionCol=\"prediction\", metricName=\"mae\")\n",
    "for name,preds in zip(names,predictions):\n",
    "    print(\"%s MAE on test data = %g\" % (name,evaluator.evaluate(preds)))"
   ]
  },
  {
   "cell_type": "markdown",
   "id": "narrow-survival",
   "metadata": {},
   "source": [
    "# MSE"
   ]
  },
  {
   "cell_type": "code",
   "execution_count": 42,
   "id": "european-stretch",
   "metadata": {},
   "outputs": [
    {
     "name": "stdout",
     "output_type": "stream",
     "text": [
      "linear_regression MSE on test data = 32.2751\n",
      "decision_tree MSE on test data = 57.6234\n",
      "random_forest MSE on test data = 63.2176\n",
      "gradient_boosting_tree MSE on test data = 62.4663\n",
      "survival_regression MSE on test data = 138.355\n"
     ]
    }
   ],
   "source": [
    "evaluator = RegressionEvaluator(labelCol=\"label\", predictionCol=\"prediction\", metricName=\"mse\")\n",
    "for name,preds in zip(names,predictions):\n",
    "    print(\"%s MSE on test data = %g\" % (name,evaluator.evaluate(preds)))"
   ]
  },
  {
   "cell_type": "markdown",
   "id": "coated-visitor",
   "metadata": {},
   "source": [
    "# R2-Score"
   ]
  },
  {
   "cell_type": "code",
   "execution_count": 43,
   "id": "bored-contemporary",
   "metadata": {},
   "outputs": [
    {
     "name": "stdout",
     "output_type": "stream",
     "text": [
      "linear_regression R2 on test data = 0.953311\n",
      "decision_tree R2 on test data = 0.916642\n",
      "random_forest R2 on test data = 0.908549\n",
      "gradient_boosting_tree R2 on test data = 0.909636\n",
      "survival_regression R2 on test data = 0.799856\n"
     ]
    }
   ],
   "source": [
    "evaluator = RegressionEvaluator(labelCol=\"label\", predictionCol=\"prediction\", metricName=\"r2\")\n",
    "for name,preds in zip(names,predictions):\n",
    "    print(\"%s R2 on test data = %g\" % (name,evaluator.evaluate(preds)))"
   ]
  },
  {
   "cell_type": "markdown",
   "id": "danish-trainer",
   "metadata": {},
   "source": [
    "# Save models to gateway serever\n",
    "#### We can dowload the models from gateway file system to local file system and perform real time streaming locally using kafka.\n",
    "#### Syntax: !hdfs dfs -get [model_path] [gateway_dir]"
   ]
  },
  {
   "cell_type": "code",
   "execution_count": 117,
   "id": "saving-cursor",
   "metadata": {},
   "outputs": [],
   "source": [
    "#!rm -rf /home/students/s281654/MorePro/modelspipeline\n",
    "!hdfs dfs -get '/tmp/morepro/modelspipeline' '/home/students/s281654/MorePro'\n",
    "!hdfs dfs -get '/tmp/morepro/modelslr' '/home/students/s281654/MorePro'\n",
    "#!hdfs dfs -get '/tmp/morepro/modelsdt' '/home/students/s281654/MorePro'\n",
    "#!hdfs dfs -get '/tmp/morepro/modelsgbt' '/home/students/s281654/MorePro'\n",
    "#!hdfs dfs -get '/tmp/morepro/modelsrf' '/home/students/s281654/MorePro'\n",
    "#!hdfs dfs -get '/tmp/morepro/modelsaft' '/home/students/s281654/MorePro'"
   ]
  },
  {
   "cell_type": "markdown",
   "id": "frozen-export",
   "metadata": {},
   "source": [
    "#### Saving the test data to gateway"
   ]
  },
  {
   "cell_type": "code",
   "execution_count": 130,
   "id": "irish-graphics",
   "metadata": {},
   "outputs": [],
   "source": [
    "#!hdfs dfs -get '/tmp/morepro/data/test_df.csv' '/home/students/s281654/Data'"
   ]
  }
 ],
 "metadata": {
  "kernelspec": {
   "display_name": "PySpark (Local)",
   "language": "python",
   "name": "pyspark_local"
  },
  "language_info": {
   "codemirror_mode": {
    "name": "ipython",
    "version": 3
   },
   "file_extension": ".py",
   "mimetype": "text/x-python",
   "name": "python",
   "nbconvert_exporter": "python",
   "pygments_lexer": "ipython3",
   "version": "3.7.9"
  }
 },
 "nbformat": 4,
 "nbformat_minor": 5
}
