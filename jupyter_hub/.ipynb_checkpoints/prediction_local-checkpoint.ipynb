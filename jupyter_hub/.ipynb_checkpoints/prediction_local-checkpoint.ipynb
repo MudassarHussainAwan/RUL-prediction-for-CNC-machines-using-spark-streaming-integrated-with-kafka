{
 "cells": [
  {
   "cell_type": "code",
   "execution_count": 1,
   "metadata": {},
   "outputs": [],
   "source": [
    "from pyspark import SparkConf, SparkContext\n",
    "from pyspark.sql import SQLContext\n",
    "from pyspark.sql.types import *\n",
    "from pyspark.sql import functions as F\n",
    "\n",
    "from pyspark.ml import PipelineModel\n",
    "from pyspark.ml.regression import LinearRegressionModel\n",
    "from pyspark.ml.evaluation import RegressionEvaluator\n",
    "\n",
    "import numpy as np\n",
    "import matplotlib.pyplot as plt\n",
    "import os"
   ]
  },
  {
   "cell_type": "code",
   "execution_count": 2,
   "metadata": {},
   "outputs": [
    {
     "name": "stderr",
     "output_type": "stream",
     "text": [
      "/Library/Frameworks/Python.framework/Versions/3.9/lib/python3.9/site-packages/pyspark/sql/context.py:125: FutureWarning: Deprecated in 3.0.0. Use SparkSession.builder.getOrCreate() instead.\n",
      "  warnings.warn(\n"
     ]
    }
   ],
   "source": [
    "#sc = SparkContext.getOrCreate()\n",
    "sqlContext = SQLContext.getOrCreate(sc)"
   ]
  },
  {
   "cell_type": "markdown",
   "metadata": {},
   "source": [
    "# load the models"
   ]
  },
  {
   "cell_type": "code",
   "execution_count": 3,
   "metadata": {},
   "outputs": [],
   "source": [
    "pipeline_model = PipelineModel.load('/Users/macbook/Desktop/morePro/trained_models/model_pipeline')\n",
    "lr_model = LinearRegressionModel.load('/Users/macbook/Desktop/morePro/trained_models/model_lr')"
   ]
  },
  {
   "cell_type": "markdown",
   "metadata": {},
   "source": [
    "# Load the test data"
   ]
  },
  {
   "cell_type": "code",
   "execution_count": 5,
   "metadata": {},
   "outputs": [
    {
     "ename": "NameError",
     "evalue": "name 'spark' is not defined",
     "output_type": "error",
     "traceback": [
      "\u001b[0;31m---------------------------------------------------------------------------\u001b[0m",
      "\u001b[0;31mNameError\u001b[0m                                 Traceback (most recent call last)",
      "\u001b[0;32m<ipython-input-5-82f378c955be>\u001b[0m in \u001b[0;36m<module>\u001b[0;34m\u001b[0m\n\u001b[0;32m----> 1\u001b[0;31m \u001b[0mdf_test\u001b[0m \u001b[0;34m=\u001b[0m \u001b[0mspark\u001b[0m\u001b[0;34m.\u001b[0m\u001b[0mread\u001b[0m\u001b[0;34m.\u001b[0m\u001b[0mformat\u001b[0m\u001b[0;34m(\u001b[0m\u001b[0;34m\"csv\"\u001b[0m\u001b[0;34m)\u001b[0m\u001b[0;31m\\\u001b[0m\u001b[0;34m\u001b[0m\u001b[0;34m\u001b[0m\u001b[0m\n\u001b[0m\u001b[1;32m      2\u001b[0m     \u001b[0;34m.\u001b[0m\u001b[0moption\u001b[0m\u001b[0;34m(\u001b[0m\u001b[0;34m\"delimiter\"\u001b[0m\u001b[0;34m,\u001b[0m \u001b[0;34m\",\"\u001b[0m\u001b[0;34m)\u001b[0m\u001b[0;31m\\\u001b[0m\u001b[0;34m\u001b[0m\u001b[0;34m\u001b[0m\u001b[0m\n\u001b[1;32m      3\u001b[0m     \u001b[0;34m.\u001b[0m\u001b[0moption\u001b[0m\u001b[0;34m(\u001b[0m\u001b[0;34m\"header\"\u001b[0m\u001b[0;34m,\u001b[0m \u001b[0;34m\"True\"\u001b[0m\u001b[0;34m)\u001b[0m\u001b[0;31m\\\u001b[0m\u001b[0;34m\u001b[0m\u001b[0;34m\u001b[0m\u001b[0m\n\u001b[1;32m      4\u001b[0m     \u001b[0;34m.\u001b[0m\u001b[0mload\u001b[0m\u001b[0;34m(\u001b[0m\u001b[0;34m'/Users/macbook/Desktop/morePro/data/test_df.csv'\u001b[0m\u001b[0;34m,\u001b[0m\u001b[0minferSchema\u001b[0m\u001b[0;34m=\u001b[0m \u001b[0;32mTrue\u001b[0m\u001b[0;34m)\u001b[0m\u001b[0;31m\\\u001b[0m\u001b[0;34m\u001b[0m\u001b[0;34m\u001b[0m\u001b[0m\n\u001b[1;32m      5\u001b[0m     \u001b[0;34m.\u001b[0m\u001b[0mdrop\u001b[0m\u001b[0;34m(\u001b[0m\u001b[0;34m'_c0'\u001b[0m\u001b[0;34m)\u001b[0m\u001b[0;34m\u001b[0m\u001b[0;34m\u001b[0m\u001b[0m\n",
      "\u001b[0;31mNameError\u001b[0m: name 'spark' is not defined"
     ]
    }
   ],
   "source": [
    "df_test = spark.read.format(\"csv\")\\\n",
    "    .option(\"delimiter\", \",\")\\\n",
    "    .option(\"header\", \"True\")\\\n",
    "    .load('/Users/macbook/Desktop/morePro/data/test_df.csv',inferSchema= True)\\\n",
    "    .drop('_c0')\n"
   ]
  },
  {
   "cell_type": "code",
   "execution_count": 17,
   "metadata": {},
   "outputs": [
    {
     "name": "stdout",
     "output_type": "stream",
     "text": [
      "+------------------+------------------+-------------+-----------------+---------------+---------------+---+---+----+----+----------+------+------------+-------------+------+-----+\n",
      "|           voltage|           current|contact_force| angular_velocity|linear_velocity|cutter_position| F1| F2|beta|mass|Resistance|Radius|Torque_const|Voltage_const|censor|  rul|\n",
      "+------------------+------------------+-------------+-----------------+---------------+---------------+---+---+----+----+----------+------+------------+-------------+------+-----+\n",
      "|14.018901483057599|               0.0|            0|              0.1|            0.0|            0.0|0.0|4.0| 0.1|3.05|       0.5|  0.32|         1.4|          0.3|     1|100.0|\n",
      "|  32.8294147090145|   14.695170041425|            0|7.594252064961379|            0.0|            0.0|0.0|4.0| 0.1|3.05|       0.5|  0.32|         1.4|          0.3|     1|100.0|\n",
      "|  49.1857845082135|  31.4478379885061|            0| 30.5163095148387|            0.0|            0.0|0.0|4.0| 0.1|3.05|       0.5|  0.32|         1.4|          0.3|     1|100.0|\n",
      "| 61.99602734712111|46.095750832504606|            0|65.54979372942461|            0.0|            0.0|0.0|4.0| 0.1|3.05|       0.5|  0.32|         1.4|          0.3|     1|100.0|\n",
      "| 70.78880327595891|  56.4989795800494|            0| 106.824298709279|            0.0|            0.0|0.0|4.0| 0.1|3.05|       0.5|  0.32|         1.4|          0.3|     1|100.0|\n",
      "+------------------+------------------+-------------+-----------------+---------------+---------------+---+---+----+----+----------+------+------------+-------------+------+-----+\n",
      "only showing top 5 rows\n",
      "\n"
     ]
    }
   ],
   "source": [
    "df_test.show(5)"
   ]
  },
  {
   "cell_type": "markdown",
   "metadata": {},
   "source": [
    "# Transform the data and make predictions"
   ]
  },
  {
   "cell_type": "code",
   "execution_count": 12,
   "metadata": {},
   "outputs": [],
   "source": [
    "test_transformedData = pipeline_model.transform(df_test)\n",
    "#aft_pred = aft_model.transform(test_transformedData)\n",
    "lr_pred = lr_model.transform(test_transformedData)\n",
    "#dt_pred = dt_model.transform(test_transformedData)\n",
    "#gbt_pred = gbt_model.transform(test_transformedData)\n",
    "#rf_pred = rf_model.transform(test_transformedData)"
   ]
  },
  {
   "cell_type": "markdown",
   "metadata": {},
   "source": [
    "# prediction vs rul"
   ]
  },
  {
   "cell_type": "code",
   "execution_count": 13,
   "metadata": {},
   "outputs": [],
   "source": [
    "rul = np.array(df_test.select(\"rul\").collect())\n",
    "#y_aft = np.array(aft_pred.select('prediction').collect())\n",
    "y_lr = np.array(lr_pred.select('prediction').collect())\n",
    "#y_dt = np.array(dt_pred.select('prediction').collect())\n",
    "#y_rf = np.array(dt_pred.select('prediction').collect())\n",
    "#y_gbt = np.array(gbt_pred.select('prediction').collect())"
   ]
  },
  {
   "cell_type": "code",
   "execution_count": 14,
   "metadata": {},
   "outputs": [
    {
     "data": {
      "text/plain": [
       "[<matplotlib.lines.Line2D at 0x7fe476be3070>]"
      ]
     },
     "execution_count": 14,
     "metadata": {},
     "output_type": "execute_result"
    },
    {
     "data": {
      "image/png": "[encoded data removed]",
      "text/plain": [
       "<Figure size 432x288 with 1 Axes>"
      ]
     },
     "metadata": {
      "needs_background": "light"
     },
     "output_type": "display_data"
    }
   ],
   "source": [
    "plt.plot(rul)\n",
    "plt.plot(y_lr)"
   ]
  },
  {
   "cell_type": "markdown",
   "metadata": {},
   "source": [
    "# Metric evaluation"
   ]
  },
  {
   "cell_type": "code",
   "execution_count": null,
   "metadata": {},
   "outputs": [],
   "source": [
    "predictions = [lr_pred,dt_pred,rf_pred,gbt_pred,aft_pred]\n",
    "names = ['linear_regression', 'decision_tree','random_forest','gradient_boosting_tree','survival_regression']"
   ]
  },
  {
   "cell_type": "markdown",
   "metadata": {},
   "source": [
    "# MAE"
   ]
  },
  {
   "cell_type": "code",
   "execution_count": 41,
   "metadata": {},
   "outputs": [
    {
     "name": "stdout",
     "output_type": "stream",
     "text": [
      "linear_regression MAE on test data = 4.40019\n",
      "decision_tree MAE on test data = 4.63777\n",
      "random_forest MAE on test data = 6.31273\n",
      "gradient_boosting_tree MAE on test data = 5.60826\n",
      "survival_regression MAE on test data = 9.00669\n"
     ]
    }
   ],
   "source": [
    "evaluator = RegressionEvaluator(labelCol=\"label\", predictionCol=\"prediction\", metricName=\"mae\")\n",
    "for name,preds in zip(names,predictions):\n",
    "    print(\"%s MAE on test data = %g\" % (name,evaluator.evaluate(preds)))"
   ]
  },
  {
   "cell_type": "markdown",
   "metadata": {},
   "source": [
    "# MSE"
   ]
  },
  {
   "cell_type": "code",
   "execution_count": 42,
   "metadata": {},
   "outputs": [
    {
     "name": "stdout",
     "output_type": "stream",
     "text": [
      "linear_regression MSE on test data = 32.2751\n",
      "decision_tree MSE on test data = 57.6234\n",
      "random_forest MSE on test data = 63.2176\n",
      "gradient_boosting_tree MSE on test data = 62.4663\n",
      "survival_regression MSE on test data = 138.355\n"
     ]
    }
   ],
   "source": [
    "evaluator = RegressionEvaluator(labelCol=\"label\", predictionCol=\"prediction\", metricName=\"mse\")\n",
    "for name,preds in zip(names,predictions):\n",
    "    print(\"%s MSE on test data = %g\" % (name,evaluator.evaluate(preds)))"
   ]
  },
  {
   "cell_type": "markdown",
   "metadata": {},
   "source": [
    "# R2-Score"
   ]
  },
  {
   "cell_type": "code",
   "execution_count": 43,
   "metadata": {},
   "outputs": [
    {
     "name": "stdout",
     "output_type": "stream",
     "text": [
      "linear_regression R2 on test data = 0.953311\n",
      "decision_tree R2 on test data = 0.916642\n",
      "random_forest R2 on test data = 0.908549\n",
      "gradient_boosting_tree R2 on test data = 0.909636\n",
      "survival_regression R2 on test data = 0.799856\n"
     ]
    }
   ],
   "source": [
    "evaluator = RegressionEvaluator(labelCol=\"label\", predictionCol=\"prediction\", metricName=\"r2\")\n",
    "for name,preds in zip(names,predictions):\n",
    "    print(\"%s R2 on test data = %g\" % (name,evaluator.evaluate(preds)))"
   ]
  }
 ],
 "metadata": {
  "kernelspec": {
   "display_name": "Python 3",
   "language": "python",
   "name": "python3"
  },
  "language_info": {
   "codemirror_mode": {
    "name": "ipython",
    "version": 3
   },
   "file_extension": ".py",
   "mimetype": "text/x-python",
   "name": "python",
   "nbconvert_exporter": "python",
   "pygments_lexer": "ipython3",
   "version": "3.9.1"
  }
 },
 "nbformat": 4,
 "nbformat_minor": 5
}
