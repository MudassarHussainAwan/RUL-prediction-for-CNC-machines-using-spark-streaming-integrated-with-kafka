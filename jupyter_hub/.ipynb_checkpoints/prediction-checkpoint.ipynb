{
 "cells": [
  {
   "cell_type": "code",
   "execution_count": 195,
   "metadata": {},
   "outputs": [],
   "source": [
    "#from pyspark import SparkConf, SparkContext\n",
    "#from pyspark.sql import SQLContext\n",
    "from pyspark.sql.types import *\n",
    "from pyspark.sql import functions as F\n",
    "from pyspark.ml.feature import MinMaxScalerModel\n",
    "from pyspark.ml.feature import PCAModel\n",
    "from pyspark.ml.feature import RFormulaModel\n",
    "\n",
    "from pyspark.ml import PipelineModel\n",
    "from pyspark.ml.regression import AFTSurvivalRegressionModel\n",
    "from pyspark.ml.regression import LinearRegressionModel\n",
    "from pyspark.ml.regression import GBTRegressionModel\n",
    "from pyspark.ml.regression import DecisionTreeRegressionModel\n",
    "from pyspark.ml.regression import RandomForestRegressionModel\n",
    "from pyspark.ml.evaluation import RegressionEvaluator\n",
    "import numpy as np\n",
    "import pandas as pd\n",
    "import matplotlib.pyplot as plt"
   ]
  },
  {
   "cell_type": "markdown",
   "metadata": {},
   "source": [
    "#  Load the models"
   ]
  },
  {
   "cell_type": "code",
   "execution_count": 184,
   "metadata": {},
   "outputs": [],
   "source": [
    "model_dir = '/tmp/morepro/models'\n",
    "pipeline_model = PipelineModel.load(model_dir+'pipeline')\n",
    "aft_model = AFTSurvivalRegressionModel.load(model_dir+'aft')\n",
    "lr_model = LinearRegressionModel.load(model_dir+'lr')\n",
    "dt_model = DecisionTreeRegressionModel.load(model_dir+'dt')\n",
    "gbt_model = GBTRegressionModel.load(model_dir+'gbt')\n",
    "rf_model = RandomForestRegressionModel.load(model_dir+'rf')\n"
   ]
  },
  {
   "cell_type": "markdown",
   "metadata": {},
   "source": [
    "# Load the test data"
   ]
  },
  {
   "cell_type": "code",
   "execution_count": 191,
   "metadata": {},
   "outputs": [],
   "source": [
    "df_test = spark.read.format(\"csv\")\\\n",
    "    .option(\"delimiter\", \",\")\\\n",
    "    .option(\"header\", \"True\")\\\n",
    "    .load('/tmp/morepro/data/test_df.csv',inferSchema= True)\\\n",
    "    .drop('_c0')"
   ]
  },
  {
   "cell_type": "code",
   "execution_count": 196,
   "metadata": {},
   "outputs": [],
   "source": [
    "rul = pd.read_csv('/home/students/s281654/Data/test_rul.csv')"
   ]
  },
  {
   "cell_type": "markdown",
   "metadata": {},
   "source": [
    "# Transform the data and make predictions"
   ]
  },
  {
   "cell_type": "code",
   "execution_count": 198,
   "metadata": {},
   "outputs": [],
   "source": [
    "test_transformedData = pipeline_model.transform(df_test)\n",
    "aft_pred = aft_model.transform(test_transformedData)\n",
    "lr_pred = lr_model.transform(test_transformedData)\n",
    "dt_pred = dt_model.transform(test_transformedData)\n",
    "gbt_pred = gbt_model.transform(test_transformedData)\n",
    "rf_pred = rf_model.transform(test_transformedData)"
   ]
  },
  {
   "cell_type": "markdown",
   "metadata": {},
   "source": [
    "# prediction vs rul"
   ]
  },
  {
   "cell_type": "code",
   "execution_count": 199,
   "metadata": {},
   "outputs": [],
   "source": [
    "y_aft = np.array(aft_pred.select('prediction').collect())\n",
    "y_lr = np.array(lr_pred.select('prediction').collect())\n",
    "y_dt = np.array(dt_pred.select('prediction').collect())\n",
    "y_rf = np.array(dt_pred.select('prediction').collect())\n",
    "y_gbt = np.array(gbt_pred.select('prediction').collect())"
   ]
  },
  {
   "cell_type": "code",
   "execution_count": 200,
   "metadata": {},
   "outputs": [
    {
     "data": {
      "text/plain": [
       "[<matplotlib.lines.Line2D at 0x7f26094e9ed0>]"
      ]
     },
     "execution_count": 200,
     "metadata": {},
     "output_type": "execute_result"
    },
    {
     "data": {
      "image/png": "[encoded data removed]",
      "text/plain": [
       "<Figure size 432x288 with 1 Axes>"
      ]
     },
     "metadata": {
      "needs_background": "light"
     },
     "output_type": "display_data"
    }
   ],
   "source": [
    "plt.plot(rul)\n",
    "plt.plot(y_lr[0:-1])"
   ]
  },
  {
   "cell_type": "markdown",
   "metadata": {},
   "source": [
    "# Metric evaluation"
   ]
  },
  {
   "cell_type": "code",
   "execution_count": null,
   "metadata": {},
   "outputs": [],
   "source": [
    "predictions = [lr_pred,dt_pred,rf_pred,gbt_pred,aft_pred]\n",
    "names = ['linear_regression', 'decision_tree','random_forest','gradient_boosting_tree','survival_regression']"
   ]
  },
  {
   "cell_type": "markdown",
   "metadata": {},
   "source": [
    "# MAE"
   ]
  },
  {
   "cell_type": "code",
   "execution_count": 41,
   "metadata": {},
   "outputs": [
    {
     "name": "stdout",
     "output_type": "stream",
     "text": [
      "linear_regression MAE on test data = 4.40019\n",
      "decision_tree MAE on test data = 4.63777\n",
      "random_forest MAE on test data = 6.31273\n",
      "gradient_boosting_tree MAE on test data = 5.60826\n",
      "survival_regression MAE on test data = 9.00669\n"
     ]
    }
   ],
   "source": [
    "evaluator = RegressionEvaluator(labelCol=\"label\", predictionCol=\"prediction\", metricName=\"mae\")\n",
    "for name,preds in zip(names,predictions):\n",
    "    print(\"%s MAE on test data = %g\" % (name,evaluator.evaluate(preds)))"
   ]
  },
  {
   "cell_type": "markdown",
   "metadata": {},
   "source": [
    "# MSE"
   ]
  },
  {
   "cell_type": "code",
   "execution_count": 42,
   "metadata": {},
   "outputs": [
    {
     "name": "stdout",
     "output_type": "stream",
     "text": [
      "linear_regression MSE on test data = 32.2751\n",
      "decision_tree MSE on test data = 57.6234\n",
      "random_forest MSE on test data = 63.2176\n",
      "gradient_boosting_tree MSE on test data = 62.4663\n",
      "survival_regression MSE on test data = 138.355\n"
     ]
    }
   ],
   "source": [
    "evaluator = RegressionEvaluator(labelCol=\"label\", predictionCol=\"prediction\", metricName=\"mse\")\n",
    "for name,preds in zip(names,predictions):\n",
    "    print(\"%s MSE on test data = %g\" % (name,evaluator.evaluate(preds)))"
   ]
  },
  {
   "cell_type": "markdown",
   "metadata": {},
   "source": [
    "# R2-Score"
   ]
  },
  {
   "cell_type": "code",
   "execution_count": 43,
   "metadata": {},
   "outputs": [
    {
     "name": "stdout",
     "output_type": "stream",
     "text": [
      "linear_regression R2 on test data = 0.953311\n",
      "decision_tree R2 on test data = 0.916642\n",
      "random_forest R2 on test data = 0.908549\n",
      "gradient_boosting_tree R2 on test data = 0.909636\n",
      "survival_regression R2 on test data = 0.799856\n"
     ]
    }
   ],
   "source": [
    "evaluator = RegressionEvaluator(labelCol=\"label\", predictionCol=\"prediction\", metricName=\"r2\")\n",
    "for name,preds in zip(names,predictions):\n",
    "    print(\"%s R2 on test data = %g\" % (name,evaluator.evaluate(preds)))"
   ]
  },
  {
   "cell_type": "markdown",
   "metadata": {},
   "source": [
    "# Save models to gateway serever"
   ]
  },
  {
   "cell_type": "code",
   "execution_count": 117,
   "metadata": {},
   "outputs": [],
   "source": [
    "#!rm -rf /home/students/s281654/MorePro/modelspipeline\n",
    "!hdfs dfs -get '/tmp/morepro/modelspipeline' '/home/students/s281654/MorePro'\n",
    "!hdfs dfs -get '/tmp/morepro/modelslr' '/home/students/s281654/MorePro'\n",
    "#!hdfs dfs -get '/tmp/morepro/modelsdt' '/home/students/s281654/MorePro'\n",
    "#!hdfs dfs -get '/tmp/morepro/modelsgbt' '/home/students/s281654/MorePro'\n",
    "#!hdfs dfs -get '/tmp/morepro/modelsrf' '/home/students/s281654/MorePro'\n",
    "#!hdfs dfs -get '/tmp/morepro/modelsaft' '/home/students/s281654/MorePro'"
   ]
  },
  {
   "cell_type": "code",
   "execution_count": 130,
   "metadata": {},
   "outputs": [],
   "source": [
    "# Saving the test data to gateway\n",
    "#!hdfs dfs -get '/tmp/morepro/data/test_df.csv' '/home/students/s281654/Data'"
   ]
  }
 ],
 "metadata": {
  "kernelspec": {
   "display_name": "Python 3",
   "language": "python",
   "name": "python3"
  },
  "language_info": {
   "codemirror_mode": {
    "name": "ipython",
    "version": 3
   },
   "file_extension": ".py",
   "mimetype": "text/x-python",
   "name": "python",
   "nbconvert_exporter": "python",
   "pygments_lexer": "ipython3",
   "version": "3.9.1"
  }
 },
 "nbformat": 4,
 "nbformat_minor": 5
}
