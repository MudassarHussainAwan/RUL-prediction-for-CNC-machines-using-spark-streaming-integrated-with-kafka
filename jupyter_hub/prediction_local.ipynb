{
 "cells": [
  {
   "cell_type": "code",
   "execution_count": 14,
   "metadata": {},
   "outputs": [],
   "source": [
    "from pyspark import SparkConf, SparkContext\n",
    "from pyspark.sql import SQLContext\n",
    "from pyspark.sql import SparkSession\n",
    "from pyspark.sql.types import *\n",
    "from pyspark.sql import functions as F\n",
    "\n",
    "from pyspark.ml import PipelineModel\n",
    "from pyspark.ml.regression import LinearRegressionModel\n",
    "from pyspark.ml.evaluation import RegressionEvaluator\n",
    "\n",
    "import numpy as np\n",
    "import matplotlib.pyplot as plt\n",
    "import os\n",
    "import pandas as pd"
   ]
  },
  {
   "cell_type": "code",
   "execution_count": 8,
   "metadata": {},
   "outputs": [],
   "source": [
    "spark = SparkSession.builder.master(\"local[2]\").getOrCreate()"
   ]
  },
  {
   "cell_type": "markdown",
   "metadata": {},
   "source": [
    "# load the models"
   ]
  },
  {
   "cell_type": "code",
   "execution_count": 3,
   "metadata": {},
   "outputs": [],
   "source": [
    "pipeline_model = PipelineModel.load('/Users/macbook/Desktop/morePro/trained_models/model_pipeline')\n",
    "lr_model = LinearRegressionModel.load('/Users/macbook/Desktop/morePro/trained_models/model_lr')"
   ]
  },
  {
   "cell_type": "markdown",
   "metadata": {},
   "source": [
    "# Load the test data"
   ]
  },
  {
   "cell_type": "code",
   "execution_count": 9,
   "metadata": {},
   "outputs": [],
   "source": [
    "df_test = spark.read.format(\"csv\")\\\n",
    "    .option(\"delimiter\", \",\")\\\n",
    "    .option(\"header\", \"True\")\\\n",
    "    .load('/Users/macbook/Desktop/morePro/data/test_df.csv',inferSchema= True)\\\n",
    "    .drop('_c0')\n"
   ]
  },
  {
   "cell_type": "code",
   "execution_count": 15,
   "metadata": {},
   "outputs": [],
   "source": [
    "rul = pd.read_csv('/Users/macbook/Desktop/morePro/data/test_rul.csv')"
   ]
  },
  {
   "cell_type": "code",
   "execution_count": 16,
   "metadata": {},
   "outputs": [
    {
     "name": "stdout",
     "output_type": "stream",
     "text": [
      "+------------------+------------------+-------------+-----------------+---------------+---------------+---+---+----+------+-----+----+----------+------+------------+-------------+------+\n",
      "|           voltage|           current|contact_force| angular_velocity|linear_velocity|cutter_position| F1| F2|beta|CNC_id|cycle|mass|resistance|radius|torque_const|voltage_const|censor|\n",
      "+------------------+------------------+-------------+-----------------+---------------+---------------+---+---+----+------+-----+----+----------+------+------------+-------------+------+\n",
      "|14.018901483057599|               0.0|            0|              0.1|            0.0|            0.0|0.0|4.0| 0.1|     5|    0|3.05|       0.5|  0.32|         1.4|          0.3|     1|\n",
      "|  32.8294147090145|   14.695170041425|            0|7.594252064961379|            0.0|            0.0|0.0|4.0| 0.1|     5|    1|3.05|       0.5|  0.32|         1.4|          0.3|     1|\n",
      "|  49.1857845082135|  31.4478379885061|            0| 30.5163095148387|            0.0|            0.0|0.0|4.0| 0.1|     5|    2|3.05|       0.5|  0.32|         1.4|          0.3|     1|\n",
      "| 61.99602734712111|46.095750832504606|            0|65.54979372942461|            0.0|            0.0|0.0|4.0| 0.1|     5|    3|3.05|       0.5|  0.32|         1.4|          0.3|     1|\n",
      "| 70.78880327595891|  56.4989795800494|            0| 106.824298709279|            0.0|            0.0|0.0|4.0| 0.1|     5|    4|3.05|       0.5|  0.32|         1.4|          0.3|     1|\n",
      "+------------------+------------------+-------------+-----------------+---------------+---------------+---+---+----+------+-----+----+----------+------+------------+-------------+------+\n",
      "only showing top 5 rows\n",
      "\n"
     ]
    }
   ],
   "source": [
    "df_test.show(5)"
   ]
  },
  {
   "cell_type": "markdown",
   "metadata": {},
   "source": [
    "# Transform the data and make predictions"
   ]
  },
  {
   "cell_type": "code",
   "execution_count": 11,
   "metadata": {},
   "outputs": [],
   "source": [
    "test_transformedData = pipeline_model.transform(df_test)\n",
    "#aft_pred = aft_model.transform(test_transformedData)\n",
    "lr_pred = lr_model.transform(test_transformedData)\n",
    "#dt_pred = dt_model.transform(test_transformedData)\n",
    "#gbt_pred = gbt_model.transform(test_transformedData)\n",
    "#rf_pred = rf_model.transform(test_transformedData)"
   ]
  },
  {
   "cell_type": "markdown",
   "metadata": {},
   "source": [
    "# prediction vs rul"
   ]
  },
  {
   "cell_type": "code",
   "execution_count": 17,
   "metadata": {},
   "outputs": [],
   "source": [
    "y_lr = np.array(lr_pred.select('prediction').collect())\n",
    "#y_aft = np.array(aft_pred.select('prediction').collect())\n",
    "#y_dt = np.array(dt_pred.select('prediction').collect())\n",
    "#y_rf = np.array(dt_pred.select('prediction').collect())\n",
    "#y_gbt = np.array(gbt_pred.select('prediction').collect())"
   ]
  },
  {
   "cell_type": "code",
   "execution_count": 19,
   "metadata": {},
   "outputs": [
    {
     "data": {
      "text/plain": [
       "[<matplotlib.lines.Line2D at 0x7f956821fa60>]"
      ]
     },
     "execution_count": 19,
     "metadata": {},
     "output_type": "execute_result"
    },
    {
     "data": {
      "image/png": "[encoded data removed]",
      "text/plain": [
       "<Figure size 432x288 with 1 Axes>"
      ]
     },
     "metadata": {
      "needs_background": "light"
     },
     "output_type": "display_data"
    }
   ],
   "source": [
    "plt.plot(rul)\n",
    "plt.plot(y_lr[0:-1])"
   ]
  },
  {
   "cell_type": "markdown",
   "metadata": {},
   "source": [
    "# Metric evaluation"
   ]
  },
  {
   "cell_type": "code",
   "execution_count": null,
   "metadata": {},
   "outputs": [],
   "source": [
    "predictions = [lr_pred,dt_pred,rf_pred,gbt_pred,aft_pred]\n",
    "names = ['linear_regression', 'decision_tree','random_forest','gradient_boosting_tree','survival_regression']"
   ]
  },
  {
   "cell_type": "markdown",
   "metadata": {},
   "source": [
    "# MAE"
   ]
  },
  {
   "cell_type": "code",
   "execution_count": 41,
   "metadata": {},
   "outputs": [
    {
     "name": "stdout",
     "output_type": "stream",
     "text": [
      "linear_regression MAE on test data = 4.40019\n",
      "decision_tree MAE on test data = 4.63777\n",
      "random_forest MAE on test data = 6.31273\n",
      "gradient_boosting_tree MAE on test data = 5.60826\n",
      "survival_regression MAE on test data = 9.00669\n"
     ]
    }
   ],
   "source": [
    "evaluator = RegressionEvaluator(labelCol=\"label\", predictionCol=\"prediction\", metricName=\"mae\")\n",
    "for name,preds in zip(names,predictions):\n",
    "    print(\"%s MAE on test data = %g\" % (name,evaluator.evaluate(preds)))"
   ]
  },
  {
   "cell_type": "markdown",
   "metadata": {},
   "source": [
    "# MSE"
   ]
  },
  {
   "cell_type": "code",
   "execution_count": 42,
   "metadata": {},
   "outputs": [
    {
     "name": "stdout",
     "output_type": "stream",
     "text": [
      "linear_regression MSE on test data = 32.2751\n",
      "decision_tree MSE on test data = 57.6234\n",
      "random_forest MSE on test data = 63.2176\n",
      "gradient_boosting_tree MSE on test data = 62.4663\n",
      "survival_regression MSE on test data = 138.355\n"
     ]
    }
   ],
   "source": [
    "evaluator = RegressionEvaluator(labelCol=\"label\", predictionCol=\"prediction\", metricName=\"mse\")\n",
    "for name,preds in zip(names,predictions):\n",
    "    print(\"%s MSE on test data = %g\" % (name,evaluator.evaluate(preds)))"
   ]
  },
  {
   "cell_type": "markdown",
   "metadata": {},
   "source": [
    "# R2-Score"
   ]
  },
  {
   "cell_type": "code",
   "execution_count": 43,
   "metadata": {},
   "outputs": [
    {
     "name": "stdout",
     "output_type": "stream",
     "text": [
      "linear_regression R2 on test data = 0.953311\n",
      "decision_tree R2 on test data = 0.916642\n",
      "random_forest R2 on test data = 0.908549\n",
      "gradient_boosting_tree R2 on test data = 0.909636\n",
      "survival_regression R2 on test data = 0.799856\n"
     ]
    }
   ],
   "source": [
    "evaluator = RegressionEvaluator(labelCol=\"label\", predictionCol=\"prediction\", metricName=\"r2\")\n",
    "for name,preds in zip(names,predictions):\n",
    "    print(\"%s R2 on test data = %g\" % (name,evaluator.evaluate(preds)))"
   ]
  }
 ],
 "metadata": {
  "kernelspec": {
   "display_name": "Python 3",
   "language": "python",
   "name": "python3"
  },
  "language_info": {
   "codemirror_mode": {
    "name": "ipython",
    "version": 3
   },
   "file_extension": ".py",
   "mimetype": "text/x-python",
   "name": "python",
   "nbconvert_exporter": "python",
   "pygments_lexer": "ipython3",
   "version": "3.9.1"
  }
 },
 "nbformat": 4,
 "nbformat_minor": 5
}
